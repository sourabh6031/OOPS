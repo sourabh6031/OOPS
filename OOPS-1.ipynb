{
 "cells": [
  {
   "cell_type": "code",
   "execution_count": null,
   "id": "64681aef",
   "metadata": {},
   "outputs": [],
   "source": [
    "# CREATING CLASS name 'CAR'\n",
    "# THIS CLASS 'CAR' WILL ACT AS A PLACEHOLDER TO STORE DATA OF DIFFERENT CAR COMPANY."
   ]
  },
  {
   "cell_type": "code",
   "execution_count": 18,
   "id": "c6a16b74",
   "metadata": {},
   "outputs": [],
   "source": [
    "class car:\n",
    "    company='DEMO'\n",
    "    networth = 'DEMO'\n",
    "    country = 'DEMO'"
   ]
  },
  {
   "cell_type": "code",
   "execution_count": 19,
   "id": "f7009463",
   "metadata": {},
   "outputs": [
    {
     "data": {
      "text/plain": [
       "'DEMO'"
      ]
     },
     "execution_count": 19,
     "metadata": {},
     "output_type": "execute_result"
    }
   ],
   "source": [
    "car.country"
   ]
  },
  {
   "cell_type": "code",
   "execution_count": 20,
   "id": "0aa98b45",
   "metadata": {},
   "outputs": [
    {
     "data": {
      "text/plain": [
       "'DEMO'"
      ]
     },
     "execution_count": 20,
     "metadata": {},
     "output_type": "execute_result"
    }
   ],
   "source": [
    "car().company"
   ]
  },
  {
   "cell_type": "code",
   "execution_count": 21,
   "id": "8255d27e",
   "metadata": {},
   "outputs": [
    {
     "data": {
      "text/plain": [
       "'DEMO'"
      ]
     },
     "execution_count": 21,
     "metadata": {},
     "output_type": "execute_result"
    }
   ],
   "source": [
    "car.company"
   ]
  },
  {
   "cell_type": "code",
   "execution_count": null,
   "id": "ef875d57",
   "metadata": {},
   "outputs": [],
   "source": []
  },
  {
   "cell_type": "code",
   "execution_count": 22,
   "id": "ce4faf68",
   "metadata": {},
   "outputs": [],
   "source": [
    "# updating an object into default CLASS 'CAR'.\n",
    "\n",
    "car.headquarter = 'DEMO'"
   ]
  },
  {
   "cell_type": "code",
   "execution_count": 23,
   "id": "3fdc1843",
   "metadata": {},
   "outputs": [
    {
     "data": {
      "text/plain": [
       "__main__.car"
      ]
     },
     "execution_count": 23,
     "metadata": {},
     "output_type": "execute_result"
    }
   ],
   "source": [
    "car"
   ]
  },
  {
   "cell_type": "code",
   "execution_count": 24,
   "id": "99181f2f",
   "metadata": {},
   "outputs": [
    {
     "data": {
      "text/plain": [
       "'DEMO'"
      ]
     },
     "execution_count": 24,
     "metadata": {},
     "output_type": "execute_result"
    }
   ],
   "source": [
    "car.headquarter"
   ]
  },
  {
   "cell_type": "code",
   "execution_count": null,
   "id": "7068a9ac",
   "metadata": {},
   "outputs": [],
   "source": []
  },
  {
   "cell_type": "code",
   "execution_count": null,
   "id": "af970598",
   "metadata": {},
   "outputs": [],
   "source": [
    "# CREATING OBJECT 'honda'"
   ]
  },
  {
   "cell_type": "code",
   "execution_count": 25,
   "id": "269dbbc4",
   "metadata": {},
   "outputs": [],
   "source": [
    "# all the properties of car like bmw but for honda\n",
    "honda = car()"
   ]
  },
  {
   "cell_type": "code",
   "execution_count": 26,
   "id": "68fa958f",
   "metadata": {},
   "outputs": [],
   "source": [
    "honda.headquarter = 'Stuttgart'\n",
    "honda.company='HONDA'\n",
    "honda.networth = '68 Billion'\n",
    "honda.country = 'Germany'"
   ]
  },
  {
   "cell_type": "code",
   "execution_count": null,
   "id": "ac902813",
   "metadata": {},
   "outputs": [],
   "source": []
  },
  {
   "cell_type": "code",
   "execution_count": null,
   "id": "1191be8a",
   "metadata": {},
   "outputs": [],
   "source": [
    "# CREATING OBJECT 'bmw'"
   ]
  },
  {
   "cell_type": "code",
   "execution_count": 27,
   "id": "a073d736",
   "metadata": {},
   "outputs": [],
   "source": [
    "bmw = car()"
   ]
  },
  {
   "cell_type": "code",
   "execution_count": 28,
   "id": "49f7feb6",
   "metadata": {},
   "outputs": [],
   "source": [
    "bmw.headquarter = 'Muninch'\n",
    "bmw.company='BMW'\n",
    "bmw.networth = '60 Billion'\n",
    "bmw.country = 'Germany'"
   ]
  },
  {
   "cell_type": "code",
   "execution_count": null,
   "id": "5e4a5650",
   "metadata": {},
   "outputs": [],
   "source": []
  },
  {
   "cell_type": "code",
   "execution_count": 29,
   "id": "9e3eec73",
   "metadata": {},
   "outputs": [
    {
     "data": {
      "text/plain": [
       "'DEMO'"
      ]
     },
     "execution_count": 29,
     "metadata": {},
     "output_type": "execute_result"
    }
   ],
   "source": [
    "car.company"
   ]
  },
  {
   "cell_type": "code",
   "execution_count": 30,
   "id": "5137895a",
   "metadata": {},
   "outputs": [
    {
     "data": {
      "text/plain": [
       "'HONDA'"
      ]
     },
     "execution_count": 30,
     "metadata": {},
     "output_type": "execute_result"
    }
   ],
   "source": [
    "honda.company"
   ]
  },
  {
   "cell_type": "code",
   "execution_count": 31,
   "id": "93a9e0ba",
   "metadata": {},
   "outputs": [
    {
     "data": {
      "text/plain": [
       "'BMW'"
      ]
     },
     "execution_count": 31,
     "metadata": {},
     "output_type": "execute_result"
    }
   ],
   "source": [
    "bmw.company"
   ]
  },
  {
   "cell_type": "code",
   "execution_count": null,
   "id": "b43a57a8",
   "metadata": {},
   "outputs": [],
   "source": []
  },
  {
   "cell_type": "code",
   "execution_count": 32,
   "id": "815fcbc3",
   "metadata": {},
   "outputs": [
    {
     "data": {
      "text/plain": [
       "'DEMO'"
      ]
     },
     "execution_count": 32,
     "metadata": {},
     "output_type": "execute_result"
    }
   ],
   "source": [
    "car.headquarter"
   ]
  },
  {
   "cell_type": "code",
   "execution_count": 33,
   "id": "b38a6d26",
   "metadata": {},
   "outputs": [
    {
     "data": {
      "text/plain": [
       "'Stuttgart'"
      ]
     },
     "execution_count": 33,
     "metadata": {},
     "output_type": "execute_result"
    }
   ],
   "source": [
    "honda.headquarter"
   ]
  },
  {
   "cell_type": "code",
   "execution_count": 34,
   "id": "f4a26e77",
   "metadata": {},
   "outputs": [
    {
     "data": {
      "text/plain": [
       "'Muninch'"
      ]
     },
     "execution_count": 34,
     "metadata": {},
     "output_type": "execute_result"
    }
   ],
   "source": [
    "bmw.headquarter"
   ]
  },
  {
   "cell_type": "code",
   "execution_count": null,
   "id": "aebed85a",
   "metadata": {},
   "outputs": [],
   "source": []
  },
  {
   "cell_type": "code",
   "execution_count": null,
   "id": "a3d125f3",
   "metadata": {},
   "outputs": [],
   "source": [
    "# CREATING A CLASS - DEFAULT FAMILY DETAIL STRUCTURE."
   ]
  },
  {
   "cell_type": "code",
   "execution_count": 37,
   "id": "ea32991b",
   "metadata": {},
   "outputs": [],
   "source": [
    "class family:\n",
    "    name = 'DEFAULT'\n",
    "    age = 'DEFAULT'\n",
    "    location = 'DEFAULT'    \n",
    "    def full_detail(self):\n",
    "        print(f\"My name is {self.name}, I am {self.age} years old and I live in {self.location}.\")"
   ]
  },
  {
   "cell_type": "code",
   "execution_count": 38,
   "id": "65c789a8",
   "metadata": {},
   "outputs": [],
   "source": [
    "shubham = family()"
   ]
  },
  {
   "cell_type": "code",
   "execution_count": 39,
   "id": "60407fac",
   "metadata": {},
   "outputs": [],
   "source": [
    "shubham.name = 'Shubham'\n",
    "shubham.age = 28\n",
    "shubham.location = 'Bangalore'"
   ]
  },
  {
   "cell_type": "code",
   "execution_count": null,
   "id": "d9415f64",
   "metadata": {},
   "outputs": [],
   "source": []
  },
  {
   "cell_type": "code",
   "execution_count": 40,
   "id": "dc131958",
   "metadata": {},
   "outputs": [],
   "source": [
    "sourabh = family()"
   ]
  },
  {
   "cell_type": "code",
   "execution_count": 41,
   "id": "1f89f9a2",
   "metadata": {},
   "outputs": [],
   "source": [
    "sourabh.name = 'Sourabh'\n",
    "sourabh.age = 24\n",
    "sourabh.location = 'Dhanbad'"
   ]
  },
  {
   "cell_type": "code",
   "execution_count": null,
   "id": "5bd152ca",
   "metadata": {},
   "outputs": [],
   "source": []
  },
  {
   "cell_type": "code",
   "execution_count": null,
   "id": "7099c4e7",
   "metadata": {},
   "outputs": [],
   "source": [
    "# ACCESSING EVERY PROPERTIES FOR OBJECT SHUBHAM"
   ]
  },
  {
   "cell_type": "code",
   "execution_count": 44,
   "id": "87f996b9",
   "metadata": {},
   "outputs": [
    {
     "data": {
      "text/plain": [
       "'Shubham'"
      ]
     },
     "execution_count": 44,
     "metadata": {},
     "output_type": "execute_result"
    }
   ],
   "source": [
    "shubham.name"
   ]
  },
  {
   "cell_type": "code",
   "execution_count": 45,
   "id": "9d1a1b90",
   "metadata": {},
   "outputs": [
    {
     "data": {
      "text/plain": [
       "28"
      ]
     },
     "execution_count": 45,
     "metadata": {},
     "output_type": "execute_result"
    }
   ],
   "source": [
    "shubham.age"
   ]
  },
  {
   "cell_type": "code",
   "execution_count": 46,
   "id": "3fd78678",
   "metadata": {},
   "outputs": [
    {
     "data": {
      "text/plain": [
       "'Bangalore'"
      ]
     },
     "execution_count": 46,
     "metadata": {},
     "output_type": "execute_result"
    }
   ],
   "source": [
    "shubham.location"
   ]
  },
  {
   "cell_type": "code",
   "execution_count": 47,
   "id": "129885f8",
   "metadata": {},
   "outputs": [
    {
     "name": "stdout",
     "output_type": "stream",
     "text": [
      "My name is Shubham, I am 28 years old and I live in Bangalore.\n"
     ]
    }
   ],
   "source": [
    "shubham.full_detail()"
   ]
  },
  {
   "cell_type": "code",
   "execution_count": null,
   "id": "3eb66026",
   "metadata": {},
   "outputs": [],
   "source": []
  },
  {
   "cell_type": "code",
   "execution_count": null,
   "id": "48963705",
   "metadata": {},
   "outputs": [],
   "source": [
    "# ACCESSING EVERY PROPERTIES FOR OBJECT SOURABH"
   ]
  },
  {
   "cell_type": "code",
   "execution_count": 48,
   "id": "ba1d16b2",
   "metadata": {},
   "outputs": [
    {
     "data": {
      "text/plain": [
       "'Sourabh'"
      ]
     },
     "execution_count": 48,
     "metadata": {},
     "output_type": "execute_result"
    }
   ],
   "source": [
    "sourabh.name"
   ]
  },
  {
   "cell_type": "code",
   "execution_count": 49,
   "id": "86738c20",
   "metadata": {},
   "outputs": [
    {
     "data": {
      "text/plain": [
       "24"
      ]
     },
     "execution_count": 49,
     "metadata": {},
     "output_type": "execute_result"
    }
   ],
   "source": [
    "sourabh.age"
   ]
  },
  {
   "cell_type": "code",
   "execution_count": 50,
   "id": "d9923220",
   "metadata": {},
   "outputs": [
    {
     "data": {
      "text/plain": [
       "'Dhanbad'"
      ]
     },
     "execution_count": 50,
     "metadata": {},
     "output_type": "execute_result"
    }
   ],
   "source": [
    "sourabh.location"
   ]
  },
  {
   "cell_type": "code",
   "execution_count": 51,
   "id": "cfdc1bd8",
   "metadata": {},
   "outputs": [
    {
     "name": "stdout",
     "output_type": "stream",
     "text": [
      "My name is Sourabh, I am 24 years old and I live in Dhanbad.\n"
     ]
    }
   ],
   "source": [
    "sourabh.full_detail()"
   ]
  },
  {
   "cell_type": "code",
   "execution_count": null,
   "id": "1cc91766",
   "metadata": {},
   "outputs": [],
   "source": []
  },
  {
   "cell_type": "code",
   "execution_count": 53,
   "id": "78d3ad17",
   "metadata": {},
   "outputs": [
    {
     "data": {
      "text/plain": [
       "__main__.family"
      ]
     },
     "execution_count": 53,
     "metadata": {},
     "output_type": "execute_result"
    }
   ],
   "source": [
    "# checking of object in which CLASS it belongs.\n",
    "\n",
    "type(sourabh)"
   ]
  },
  {
   "cell_type": "code",
   "execution_count": 54,
   "id": "3078517b",
   "metadata": {},
   "outputs": [
    {
     "data": {
      "text/plain": [
       "True"
      ]
     },
     "execution_count": 54,
     "metadata": {},
     "output_type": "execute_result"
    }
   ],
   "source": [
    "# checking is OBJECT 'shubham' belongs to 'family' CLASS\n",
    "\n",
    "isinstance(shubham,family)"
   ]
  },
  {
   "cell_type": "code",
   "execution_count": null,
   "id": "84efeb36",
   "metadata": {},
   "outputs": [],
   "source": []
  },
  {
   "cell_type": "code",
   "execution_count": null,
   "id": "9457b1c3",
   "metadata": {},
   "outputs": [],
   "source": []
  },
  {
   "cell_type": "code",
   "execution_count": null,
   "id": "d4ca141e",
   "metadata": {},
   "outputs": [],
   "source": []
  },
  {
   "cell_type": "code",
   "execution_count": 57,
   "id": "04cc7d99",
   "metadata": {},
   "outputs": [],
   "source": [
    "# function without 'self'\n",
    "\n",
    "class demo:\n",
    "    def hello():\n",
    "        print('hello')"
   ]
  },
  {
   "cell_type": "code",
   "execution_count": 58,
   "id": "2d61a681",
   "metadata": {},
   "outputs": [],
   "source": [
    "a = demo()"
   ]
  },
  {
   "cell_type": "code",
   "execution_count": 59,
   "id": "d3f8bb74",
   "metadata": {},
   "outputs": [
    {
     "ename": "TypeError",
     "evalue": "hello() takes 0 positional arguments but 1 was given",
     "output_type": "error",
     "traceback": [
      "\u001b[1;31m---------------------------------------------------------------------------\u001b[0m",
      "\u001b[1;31mTypeError\u001b[0m                                 Traceback (most recent call last)",
      "Input \u001b[1;32mIn [59]\u001b[0m, in \u001b[0;36m<cell line: 1>\u001b[1;34m()\u001b[0m\n\u001b[1;32m----> 1\u001b[0m \u001b[43ma\u001b[49m\u001b[38;5;241;43m.\u001b[39;49m\u001b[43mhello\u001b[49m\u001b[43m(\u001b[49m\u001b[43m)\u001b[49m\n",
      "\u001b[1;31mTypeError\u001b[0m: hello() takes 0 positional arguments but 1 was given"
     ]
    }
   ],
   "source": [
    "# when we pass custom defined function from an OBJECT of a CLASS, it will give an error\n",
    "\n",
    "a.hello()"
   ]
  },
  {
   "cell_type": "code",
   "execution_count": 60,
   "id": "7db358d5",
   "metadata": {},
   "outputs": [
    {
     "name": "stdout",
     "output_type": "stream",
     "text": [
      "hello\n"
     ]
    }
   ],
   "source": [
    "# we directly need to pass function from defined 'CLASS'\n",
    "\n",
    "demo.hello()"
   ]
  },
  {
   "cell_type": "code",
   "execution_count": null,
   "id": "114f6b66",
   "metadata": {},
   "outputs": [],
   "source": []
  },
  {
   "cell_type": "code",
   "execution_count": null,
   "id": "cb7841fb",
   "metadata": {},
   "outputs": [],
   "source": []
  },
  {
   "cell_type": "markdown",
   "id": "0b13acb5",
   "metadata": {},
   "source": [
    "### '_ _ init _ _ '"
   ]
  },
  {
   "cell_type": "code",
   "execution_count": null,
   "id": "f898412e",
   "metadata": {},
   "outputs": [],
   "source": [
    "# __init__ an instance method that initializes a newly created object.\n",
    "# It takes the object as its first argument followed by additional arguments. \n",
    "# The method takes the object as its first argument (self), followed by any additional arguments that need to be passed to it."
   ]
  },
  {
   "cell_type": "code",
   "execution_count": 78,
   "id": "1e485071",
   "metadata": {},
   "outputs": [],
   "source": [
    "class student:\n",
    "    def __init__(self, name_of_person, classs_of_person, roll_of_person, age_of_person):\n",
    "        self.name = name_of_person\n",
    "        self.classs = classs_of_person\n",
    "        self.roll = roll_of_person\n",
    "        self.age = age_of_person"
   ]
  },
  {
   "cell_type": "code",
   "execution_count": 79,
   "id": "ee182e7d",
   "metadata": {},
   "outputs": [],
   "source": [
    "b = student('sourabh','MS',44,24)"
   ]
  },
  {
   "cell_type": "code",
   "execution_count": 80,
   "id": "5c423572",
   "metadata": {},
   "outputs": [
    {
     "data": {
      "text/plain": [
       "'sourabh'"
      ]
     },
     "execution_count": 80,
     "metadata": {},
     "output_type": "execute_result"
    }
   ],
   "source": [
    "b.name"
   ]
  },
  {
   "cell_type": "code",
   "execution_count": 81,
   "id": "fdb05bff",
   "metadata": {},
   "outputs": [
    {
     "data": {
      "text/plain": [
       "'MS'"
      ]
     },
     "execution_count": 81,
     "metadata": {},
     "output_type": "execute_result"
    }
   ],
   "source": [
    "b.classs"
   ]
  },
  {
   "cell_type": "code",
   "execution_count": 82,
   "id": "15fa02cd",
   "metadata": {},
   "outputs": [
    {
     "data": {
      "text/plain": [
       "44"
      ]
     },
     "execution_count": 82,
     "metadata": {},
     "output_type": "execute_result"
    }
   ],
   "source": [
    "b.roll"
   ]
  },
  {
   "cell_type": "code",
   "execution_count": 83,
   "id": "b6e89992",
   "metadata": {},
   "outputs": [
    {
     "data": {
      "text/plain": [
       "24"
      ]
     },
     "execution_count": 83,
     "metadata": {},
     "output_type": "execute_result"
    }
   ],
   "source": [
    "b.age"
   ]
  },
  {
   "cell_type": "code",
   "execution_count": null,
   "id": "e6e134be",
   "metadata": {},
   "outputs": [],
   "source": []
  },
  {
   "cell_type": "code",
   "execution_count": null,
   "id": "dcc2870e",
   "metadata": {},
   "outputs": [],
   "source": []
  },
  {
   "cell_type": "code",
   "execution_count": 145,
   "id": "3f1e756e",
   "metadata": {},
   "outputs": [],
   "source": [
    "class team:\n",
    "    trophies = 'yes'\n",
    "    year_win = []\n",
    "    teams = ('man_utd','real_madrid')\n",
    "    def __init__(self, name_of_person, classs_of_person, team_of_person, age_of_person):\n",
    "        self.name = name_of_person\n",
    "        self.classs = classs_of_person\n",
    "        self.team = team_of_person\n",
    "        self.age = age_of_person"
   ]
  },
  {
   "cell_type": "code",
   "execution_count": 153,
   "id": "784fa63d",
   "metadata": {},
   "outputs": [],
   "source": [
    "ronaldo = team('ronaldo','front','alnassr',36)"
   ]
  },
  {
   "cell_type": "code",
   "execution_count": 93,
   "id": "3e7b3e00",
   "metadata": {},
   "outputs": [
    {
     "name": "stdout",
     "output_type": "stream",
     "text": [
      "ronaldo\n",
      "front\n",
      "yes\n"
     ]
    }
   ],
   "source": [
    "print(ronaldo.name)\n",
    "print(ronaldo.classs)\n",
    "print(ronaldo.trophies)"
   ]
  },
  {
   "cell_type": "code",
   "execution_count": null,
   "id": "8cd57dfc",
   "metadata": {},
   "outputs": [],
   "source": []
  },
  {
   "cell_type": "code",
   "execution_count": 160,
   "id": "574d2364",
   "metadata": {},
   "outputs": [],
   "source": [
    "messi = team('messi','front','barcilona',38)"
   ]
  },
  {
   "cell_type": "code",
   "execution_count": 161,
   "id": "0c55b1ab",
   "metadata": {},
   "outputs": [],
   "source": [
    "messi.trophies = 'no'"
   ]
  },
  {
   "cell_type": "code",
   "execution_count": 108,
   "id": "3a173cf6",
   "metadata": {},
   "outputs": [
    {
     "name": "stdout",
     "output_type": "stream",
     "text": [
      "messi\n",
      "front\n",
      "no\n"
     ]
    }
   ],
   "source": [
    "print(messi.name)\n",
    "print(messi.classs)\n",
    "print(messi.trophies)"
   ]
  },
  {
   "cell_type": "code",
   "execution_count": 109,
   "id": "d9387f15",
   "metadata": {},
   "outputs": [
    {
     "name": "stdout",
     "output_type": "stream",
     "text": [
      "yes\n"
     ]
    }
   ],
   "source": [
    "print(ronaldo.trophies)"
   ]
  },
  {
   "cell_type": "code",
   "execution_count": null,
   "id": "6148436c",
   "metadata": {},
   "outputs": [],
   "source": []
  },
  {
   "cell_type": "code",
   "execution_count": 114,
   "id": "f082d80c",
   "metadata": {},
   "outputs": [
    {
     "name": "stdout",
     "output_type": "stream",
     "text": [
      "[]\n",
      "[]\n"
     ]
    }
   ],
   "source": [
    "print(messi.year_win)\n",
    "print(ronaldo.year_win)"
   ]
  },
  {
   "cell_type": "code",
   "execution_count": null,
   "id": "a79654ac",
   "metadata": {},
   "outputs": [],
   "source": []
  },
  {
   "cell_type": "code",
   "execution_count": 122,
   "id": "7772fe07",
   "metadata": {},
   "outputs": [],
   "source": [
    "# if we update a variable of a CLASS from an object, then that variable will also be updated in other object.\n",
    "# we update only list'year_win' of 'messi' OBJECT, but 'year_win' of ronaldo also got changed.\n",
    "# this is because if VARIABLES of CLASS is mutable then it will be shared across all object and if its immutable then it will\n",
    "# be changed only for that instances.\n",
    "\n",
    "messi.year_win.append(2022)"
   ]
  },
  {
   "cell_type": "code",
   "execution_count": 116,
   "id": "0e669100",
   "metadata": {},
   "outputs": [
    {
     "name": "stdout",
     "output_type": "stream",
     "text": [
      "[2022]\n"
     ]
    }
   ],
   "source": [
    "print(messi.year_win)"
   ]
  },
  {
   "cell_type": "code",
   "execution_count": 117,
   "id": "924f07b8",
   "metadata": {},
   "outputs": [
    {
     "name": "stdout",
     "output_type": "stream",
     "text": [
      "[2022]\n"
     ]
    }
   ],
   "source": [
    "print(ronaldo.year_win)"
   ]
  },
  {
   "cell_type": "code",
   "execution_count": null,
   "id": "3b8bc40f",
   "metadata": {},
   "outputs": [],
   "source": []
  },
  {
   "cell_type": "code",
   "execution_count": 124,
   "id": "15da1e21",
   "metadata": {},
   "outputs": [],
   "source": [
    "ronaldo.trophies = 'never'"
   ]
  },
  {
   "cell_type": "code",
   "execution_count": 125,
   "id": "f0985734",
   "metadata": {},
   "outputs": [
    {
     "name": "stdout",
     "output_type": "stream",
     "text": [
      "never\n"
     ]
    }
   ],
   "source": [
    "print(ronaldo.trophies)"
   ]
  },
  {
   "cell_type": "code",
   "execution_count": 127,
   "id": "9be2990c",
   "metadata": {},
   "outputs": [],
   "source": [
    "messi.trophies = 'yes'"
   ]
  },
  {
   "cell_type": "code",
   "execution_count": 128,
   "id": "30d10b62",
   "metadata": {},
   "outputs": [
    {
     "name": "stdout",
     "output_type": "stream",
     "text": [
      "yes\n"
     ]
    }
   ],
   "source": [
    "print(messi.trophies)"
   ]
  },
  {
   "cell_type": "code",
   "execution_count": null,
   "id": "fb566af5",
   "metadata": {},
   "outputs": [],
   "source": []
  },
  {
   "cell_type": "code",
   "execution_count": null,
   "id": "281b606e",
   "metadata": {},
   "outputs": [],
   "source": []
  },
  {
   "cell_type": "code",
   "execution_count": 156,
   "id": "7669ea9e",
   "metadata": {},
   "outputs": [
    {
     "data": {
      "text/plain": [
       "('man_utd', 'real_madrid')"
      ]
     },
     "execution_count": 156,
     "metadata": {},
     "output_type": "execute_result"
    }
   ],
   "source": [
    "team.teams"
   ]
  },
  {
   "cell_type": "code",
   "execution_count": 158,
   "id": "6cbab71f",
   "metadata": {},
   "outputs": [
    {
     "data": {
      "text/plain": [
       "('man_utd', 'real_madrid')"
      ]
     },
     "execution_count": 158,
     "metadata": {},
     "output_type": "execute_result"
    }
   ],
   "source": [
    "ronaldo.teams "
   ]
  },
  {
   "cell_type": "code",
   "execution_count": 162,
   "id": "979c3d6a",
   "metadata": {},
   "outputs": [
    {
     "data": {
      "text/plain": [
       "('man_utd', 'real_madrid')"
      ]
     },
     "execution_count": 162,
     "metadata": {},
     "output_type": "execute_result"
    }
   ],
   "source": [
    "messi.teams"
   ]
  },
  {
   "cell_type": "code",
   "execution_count": 165,
   "id": "61a350f0",
   "metadata": {},
   "outputs": [
    {
     "name": "stdout",
     "output_type": "stream",
     "text": [
      "('man_utd', 'real_madrid', 'juventus')\n"
     ]
    }
   ],
   "source": [
    "c = list(ronaldo.teams)\n",
    "c.append('juventus')\n",
    "ronaldo.teams = tuple(c)\n",
    "print(ronaldo.teams)"
   ]
  },
  {
   "cell_type": "code",
   "execution_count": null,
   "id": "f83b4958",
   "metadata": {},
   "outputs": [],
   "source": []
  },
  {
   "cell_type": "code",
   "execution_count": 166,
   "id": "d9d26aca",
   "metadata": {},
   "outputs": [
    {
     "data": {
      "text/plain": [
       "('man_utd', 'real_madrid', 'juventus')"
      ]
     },
     "execution_count": 166,
     "metadata": {},
     "output_type": "execute_result"
    }
   ],
   "source": [
    "ronaldo.teams "
   ]
  },
  {
   "cell_type": "code",
   "execution_count": 167,
   "id": "7436362a",
   "metadata": {},
   "outputs": [
    {
     "data": {
      "text/plain": [
       "('man_utd', 'real_madrid')"
      ]
     },
     "execution_count": 167,
     "metadata": {},
     "output_type": "execute_result"
    }
   ],
   "source": [
    "messi.teams"
   ]
  },
  {
   "cell_type": "code",
   "execution_count": null,
   "id": "ab7f1e8f",
   "metadata": {},
   "outputs": [],
   "source": []
  },
  {
   "cell_type": "code",
   "execution_count": null,
   "id": "bf3ab44f",
   "metadata": {},
   "outputs": [],
   "source": []
  }
 ],
 "metadata": {
  "kernelspec": {
   "display_name": "Python 3 (ipykernel)",
   "language": "python",
   "name": "python3"
  },
  "language_info": {
   "codemirror_mode": {
    "name": "ipython",
    "version": 3
   },
   "file_extension": ".py",
   "mimetype": "text/x-python",
   "name": "python",
   "nbconvert_exporter": "python",
   "pygments_lexer": "ipython3",
   "version": "3.9.12"
  }
 },
 "nbformat": 4,
 "nbformat_minor": 5
}
